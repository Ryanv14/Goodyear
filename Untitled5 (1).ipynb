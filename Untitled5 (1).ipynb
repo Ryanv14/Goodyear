{
 "cells": [
  {
   "cell_type": "code",
   "execution_count": 4,
   "id": "4bbcb49e",
   "metadata": {},
   "outputs": [
    {
     "data": {
      "application/vnd.jupyter.widget-view+json": {
       "model_id": "8a47c8e66fba40ea95291051bf384703",
       "version_major": 2,
       "version_minor": 0
      },
      "text/plain": [
       "interactive(children=(Dropdown(description='Reason:', options=('All', 'No Fitter', 'No Stock', 'No Cover', 'No…"
      ]
     },
     "metadata": {},
     "output_type": "display_data"
    }
   ],
   "source": [
    "import pandas as pd\n",
    "import requests\n",
    "import folium\n",
    "from IPython.display import display\n",
    "import ipywidgets as widgets\n",
    "\n",
    "# Specify the path to your Excel file\n",
    "excel_file_path = 'C:/Users/Ryan/OneDrive/Report.xlsx'\n",
    "\n",
    "# Load the Excel file into a pandas DataFrame\n",
    "df = pd.read_excel(excel_file_path)\n",
    "\n",
    "# Create a Folium map centered at a default location\n",
    "default_location = [55.0000, -2.0000]  # Default to London for centering\n",
    "my_map = folium.Map(location=default_location, zoom_start=6)\n",
    "\n",
    "# Get unique reasons for filtering\n",
    "unique_reasons = df['Reason'].unique()\n",
    "\n",
    "# Create a dropdown widget for filtering\n",
    "reason_filter = widgets.Dropdown(options=['All'] + list(unique_reasons), value='All', description='Reason:')\n",
    "\n",
    "# Define a function to set the color based on the escalation reason\n",
    "def get_marker_color(reason):\n",
    "    return 'red' if reason == \"No Fitter\" else 'orange' if reason == 'No Stock' else 'green'\n",
    "\n",
    "# Display function for filtering\n",
    "def update_map(reason):\n",
    "    my_map = folium.Map(location=default_location, zoom_start=6)\n",
    "\n",
    "    # Loop through the DataFrame\n",
    "    for index, row in df.iterrows():\n",
    "        postcode = row['Postcode']\n",
    "        r = row['Reason']  # Retrieve the reason directly from the DataFrame\n",
    "\n",
    "        if reason == 'All' or r == reason:\n",
    "            # Construct the API endpoint URL\n",
    "            api_endpoint = f'https://api.postcodes.io/postcodes/{postcode}'\n",
    "\n",
    "            # Make a GET request\n",
    "            response = requests.get(api_endpoint)\n",
    "\n",
    "            # Check if the request was successful (status code 200)\n",
    "            if response.status_code == 200:\n",
    "                # Parse and work with the response data\n",
    "                data = response.json()\n",
    "\n",
    "                # Get latitude and longitude\n",
    "                latitude = data['result']['latitude']\n",
    "                longitude = data['result']['longitude']\n",
    "\n",
    "                # Add a circle marker with color based on the escalation reason\n",
    "                folium.CircleMarker(location=[latitude, longitude], radius=2, color=get_marker_color(r),\n",
    "                                    fill=True, fill_color=get_marker_color(r), fill_opacity=1,\n",
    "                                    popup=f\"Postcode: {postcode}\\nReason: {r}\").add_to(my_map)\n",
    "\n",
    "            else:\n",
    "                # Print an error message if the request was not successful\n",
    "                print(f\"Error for {postcode}: {response.status_code}\")\n",
    "                print(response.text)\n",
    "\n",
    "    # Display the map using IPython.display\n",
    "    display(my_map)\n",
    "\n",
    "# Set up the widget event handler\n",
    "widgets.interactive(update_map, reason=reason_filter)\n",
    "\n",
    "\n"
   ]
  }
 ],
 "metadata": {
  "kernelspec": {
   "display_name": "Python 3 (ipykernel)",
   "language": "python",
   "name": "python3"
  },
  "language_info": {
   "codemirror_mode": {
    "name": "ipython",
    "version": 3
   },
   "file_extension": ".py",
   "mimetype": "text/x-python",
   "name": "python",
   "nbconvert_exporter": "python",
   "pygments_lexer": "ipython3",
   "version": "3.10.9"
  }
 },
 "nbformat": 4,
 "nbformat_minor": 5
}
